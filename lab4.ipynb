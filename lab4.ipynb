{
 "cells": [
  {
   "cell_type": "markdown",
   "metadata": {},
   "source": [
    "## Lab 4"
   ]
  },
  {
   "cell_type": "markdown",
   "metadata": {},
   "source": [
    "# import libs and connect to databases"
   ]
  },
  {
   "cell_type": "code",
   "execution_count": 28,
   "metadata": {},
   "outputs": [],
   "source": [
    "import pandas\n",
    "import configparser\n",
    "import psycopg2"
   ]
  },
  {
   "cell_type": "code",
   "execution_count": 29,
   "metadata": {},
   "outputs": [],
   "source": [
    "config = configparser.ConfigParser()\n",
    "config.read('config.ini')\n",
    "\n",
    "host = config['myaws']['host']\n",
    "db=config['myaws']['db']\n",
    "user=config['myaws']['user']\n",
    "pwd=config['myaws']['pwd']"
   ]
  },
  {
   "cell_type": "code",
   "execution_count": 30,
   "metadata": {},
   "outputs": [],
   "source": [
    "conn = psycopg2.connect(\n",
    "                        host = host,\n",
    "                        user = user,\n",
    "                        password = pwd,\n",
    "                        dbname=db\n",
    "                        )"
   ]
  },
  {
   "cell_type": "code",
   "execution_count": 31,
   "metadata": {},
   "outputs": [],
   "source": [
    "cur=conn.cursor()"
   ]
  },
  {
   "cell_type": "markdown",
   "metadata": {},
   "source": [
    "# Question 1"
   ]
  },
  {
   "cell_type": "code",
   "execution_count": 34,
   "metadata": {},
   "outputs": [],
   "source": [
    "sql_q1 = \"\"\"\n",
    "            select * from student\n",
    "            \"\"\""
   ]
  },
  {
   "cell_type": "code",
   "execution_count": 35,
   "metadata": {},
   "outputs": [
    {
     "data": {
      "text/html": [
       "<div>\n",
       "<style scoped>\n",
       "    .dataframe tbody tr th:only-of-type {\n",
       "        vertical-align: middle;\n",
       "    }\n",
       "\n",
       "    .dataframe tbody tr th {\n",
       "        vertical-align: top;\n",
       "    }\n",
       "\n",
       "    .dataframe thead th {\n",
       "        text-align: right;\n",
       "    }\n",
       "</style>\n",
       "<table border=\"1\" class=\"dataframe\">\n",
       "  <thead>\n",
       "    <tr style=\"text-align: right;\">\n",
       "      <th></th>\n",
       "      <th>s_email</th>\n",
       "      <th>s_name</th>\n",
       "      <th>major</th>\n",
       "    </tr>\n",
       "  </thead>\n",
       "  <tbody>\n",
       "    <tr>\n",
       "      <th>0</th>\n",
       "      <td>tarbelce@dukes.jmu.edu</td>\n",
       "      <td>Chloe Tarbel</td>\n",
       "      <td>IA</td>\n",
       "    </tr>\n",
       "    <tr>\n",
       "      <th>1</th>\n",
       "      <td>mcdaniva@dukes.jmu.edu</td>\n",
       "      <td>Virginia McDaniel</td>\n",
       "      <td>IA</td>\n",
       "    </tr>\n",
       "    <tr>\n",
       "      <th>2</th>\n",
       "      <td>maysah@dukes.jmu.edu</td>\n",
       "      <td>Lexi Mays</td>\n",
       "      <td>IA</td>\n",
       "    </tr>\n",
       "    <tr>\n",
       "      <th>3</th>\n",
       "      <td>levinefm@dukes.jmu.edu</td>\n",
       "      <td>Fiorella Levine</td>\n",
       "      <td>IA</td>\n",
       "    </tr>\n",
       "    <tr>\n",
       "      <th>4</th>\n",
       "      <td>student1@dukes.jmu.edu</td>\n",
       "      <td>student 1</td>\n",
       "      <td>GS</td>\n",
       "    </tr>\n",
       "    <tr>\n",
       "      <th>5</th>\n",
       "      <td>student2@dukes.jmu.edu</td>\n",
       "      <td>student 2</td>\n",
       "      <td>ISAT</td>\n",
       "    </tr>\n",
       "    <tr>\n",
       "      <th>6</th>\n",
       "      <td>student3@dukes.jmu.edu</td>\n",
       "      <td>student 3</td>\n",
       "      <td>ISAT</td>\n",
       "    </tr>\n",
       "    <tr>\n",
       "      <th>7</th>\n",
       "      <td>student4@dukes.jmu.edu</td>\n",
       "      <td>student 4</td>\n",
       "      <td>GS</td>\n",
       "    </tr>\n",
       "    <tr>\n",
       "      <th>8</th>\n",
       "      <td>student5@dukes.jmu.edu</td>\n",
       "      <td>student 5</td>\n",
       "      <td>IA</td>\n",
       "    </tr>\n",
       "    <tr>\n",
       "      <th>9</th>\n",
       "      <td>student6@dukes.jmu.edu</td>\n",
       "      <td>student 6</td>\n",
       "      <td>CS</td>\n",
       "    </tr>\n",
       "  </tbody>\n",
       "</table>\n",
       "</div>"
      ],
      "text/plain": [
       "                  s_email             s_name major\n",
       "0  tarbelce@dukes.jmu.edu       Chloe Tarbel    IA\n",
       "1  mcdaniva@dukes.jmu.edu  Virginia McDaniel    IA\n",
       "2    maysah@dukes.jmu.edu          Lexi Mays    IA\n",
       "3  levinefm@dukes.jmu.edu    Fiorella Levine    IA\n",
       "4  student1@dukes.jmu.edu          student 1    GS\n",
       "5  student2@dukes.jmu.edu          student 2  ISAT\n",
       "6  student3@dukes.jmu.edu          student 3  ISAT\n",
       "7  student4@dukes.jmu.edu          student 4    GS\n",
       "8  student5@dukes.jmu.edu          student 5    IA\n",
       "9  student6@dukes.jmu.edu          student 6    CS"
      ]
     },
     "execution_count": 35,
     "metadata": {},
     "output_type": "execute_result"
    }
   ],
   "source": [
    "df= pandas.read_sql_query(sql_q1,conn)\n",
    "df[:]"
   ]
  },
  {
   "cell_type": "markdown",
   "metadata": {},
   "source": [
    "# Question 2"
   ]
  },
  {
   "cell_type": "code",
   "execution_count": 38,
   "metadata": {},
   "outputs": [],
   "source": [
    "sql_q2 = \"\"\"\n",
    "        select professor.p_name,\n",
    "        course.c_name\n",
    "        from professor\n",
    "        inner join course\n",
    "        on professor.p_email = course.p_email\n",
    "        \n",
    "        \"\"\""
   ]
  },
  {
   "cell_type": "code",
   "execution_count": 39,
   "metadata": {},
   "outputs": [
    {
     "data": {
      "text/html": [
       "<div>\n",
       "<style scoped>\n",
       "    .dataframe tbody tr th:only-of-type {\n",
       "        vertical-align: middle;\n",
       "    }\n",
       "\n",
       "    .dataframe tbody tr th {\n",
       "        vertical-align: top;\n",
       "    }\n",
       "\n",
       "    .dataframe thead th {\n",
       "        text-align: right;\n",
       "    }\n",
       "</style>\n",
       "<table border=\"1\" class=\"dataframe\">\n",
       "  <thead>\n",
       "    <tr style=\"text-align: right;\">\n",
       "      <th></th>\n",
       "      <th>p_name</th>\n",
       "      <th>c_name</th>\n",
       "    </tr>\n",
       "  </thead>\n",
       "  <tbody>\n",
       "    <tr>\n",
       "      <th>0</th>\n",
       "      <td>Orlandrew Danzell</td>\n",
       "      <td>Introduction to National Security Intelligence...</td>\n",
       "    </tr>\n",
       "    <tr>\n",
       "      <th>1</th>\n",
       "      <td>Timothy Walton</td>\n",
       "      <td>Hypotheses Testing                            ...</td>\n",
       "    </tr>\n",
       "    <tr>\n",
       "      <th>2</th>\n",
       "      <td>Ron Raab</td>\n",
       "      <td>Homeland Security                             ...</td>\n",
       "    </tr>\n",
       "    <tr>\n",
       "      <th>3</th>\n",
       "      <td>new_p</td>\n",
       "      <td>Technology Applications in a Networked World  ...</td>\n",
       "    </tr>\n",
       "    <tr>\n",
       "      <th>4</th>\n",
       "      <td>new_p</td>\n",
       "      <td>Hacking for Diplomacy                         ...</td>\n",
       "    </tr>\n",
       "    <tr>\n",
       "      <th>5</th>\n",
       "      <td>new_p</td>\n",
       "      <td>new_c_name                                    ...</td>\n",
       "    </tr>\n",
       "  </tbody>\n",
       "</table>\n",
       "</div>"
      ],
      "text/plain": [
       "              p_name                                             c_name\n",
       "0  Orlandrew Danzell  Introduction to National Security Intelligence...\n",
       "1     Timothy Walton  Hypotheses Testing                            ...\n",
       "2           Ron Raab  Homeland Security                             ...\n",
       "3              new_p  Technology Applications in a Networked World  ...\n",
       "4              new_p  Hacking for Diplomacy                         ...\n",
       "5              new_p  new_c_name                                    ..."
      ]
     },
     "execution_count": 39,
     "metadata": {},
     "output_type": "execute_result"
    }
   ],
   "source": [
    "df= pandas.read_sql_query(sql_q2,conn)\n",
    "df[:]"
   ]
  },
  {
   "cell_type": "markdown",
   "metadata": {},
   "source": [
    "# Question 3"
   ]
  },
  {
   "cell_type": "code",
   "execution_count": 40,
   "metadata": {},
   "outputs": [],
   "source": [
    "sql_q3 = \"\"\"\n",
    "        select c_number,\n",
    "        count(c_number) as enrolled\n",
    "        from enroll_list\n",
    "        group by c_number\n",
    "        order by enrolled desc\n",
    "        \"\"\""
   ]
  },
  {
   "cell_type": "code",
   "execution_count": 41,
   "metadata": {},
   "outputs": [
    {
     "data": {
      "text/plain": [
       "<matplotlib.axes._subplots.AxesSubplot at 0x7faaee004e80>"
      ]
     },
     "execution_count": 41,
     "metadata": {},
     "output_type": "execute_result"
    },
    {
     "data": {
      "image/png": "[encoded data removed]",
      "text/plain": [
       "<Figure size 432x288 with 1 Axes>"
      ]
     },
     "metadata": {
      "needs_background": "light"
     },
     "output_type": "display_data"
    }
   ],
   "source": [
    "df= pandas.read_sql_query(sql_q3,conn)\n",
    "df.plot.bar(y='enrolled',x='c_number')"
   ]
  },
  {
   "cell_type": "markdown",
   "metadata": {},
   "source": [
    "# Question 4"
   ]
  },
  {
   "cell_type": "code",
   "execution_count": 42,
   "metadata": {},
   "outputs": [],
   "source": [
    "sql_q4 = \"\"\"\n",
    "        select professor.p_name,\n",
    "        count(course.c_name) as teaching_number\n",
    "        from professor\n",
    "        inner join course\n",
    "        on professor.p_email = course.p_email\n",
    "        group by professor.p_name\n",
    "        order by teaching_number desc\n",
    "        \"\"\""
   ]
  },
  {
   "cell_type": "code",
   "execution_count": 43,
   "metadata": {},
   "outputs": [
    {
     "data": {
      "text/plain": [
       "<matplotlib.axes._subplots.AxesSubplot at 0x7faaed2d6e48>"
      ]
     },
     "execution_count": 43,
     "metadata": {},
     "output_type": "execute_result"
    },
    {
     "data": {
      "image/png": "[encoded data removed]",
      "text/plain": [
       "<Figure size 432x288 with 1 Axes>"
      ]
     },
     "metadata": {
      "needs_background": "light"
     },
     "output_type": "display_data"
    }
   ],
   "source": [
    "df= pandas.read_sql_query(sql_q4,conn)\n",
    "df.plot.bar(y='teaching_number',x='p_name')"
   ]
  },
  {
   "cell_type": "markdown",
   "metadata": {},
   "source": [
    "# Question 5"
   ]
  },
  {
   "cell_type": "code",
   "execution_count": 67,
   "metadata": {},
   "outputs": [],
   "source": [
    "sql_q5_professor = \"\"\"\n",
    "                    insert into professor(p_email,p_name,office)\n",
    "                    values('{}','{}','{}')\n",
    "                    \"\"\".format('new_profes@jmu.edu','new_p','new_office')"
   ]
  },
  {
   "cell_type": "code",
   "execution_count": 68,
   "metadata": {},
   "outputs": [
    {
     "ename": "InternalError",
     "evalue": "current transaction is aborted, commands ignored until end of transaction block\n",
     "output_type": "error",
     "traceback": [
      "\u001b[0;31m---------------------------------------------------------------------------\u001b[0m",
      "\u001b[0;31mInternalError\u001b[0m                             Traceback (most recent call last)",
      "\u001b[0;32m<ipython-input-68-43f48278eb87>\u001b[0m in \u001b[0;36m<module>\u001b[0;34m\u001b[0m\n\u001b[0;32m----> 1\u001b[0;31m \u001b[0mcur\u001b[0m\u001b[0;34m.\u001b[0m\u001b[0mexecute\u001b[0m\u001b[0;34m(\u001b[0m\u001b[0msql_q5_professor\u001b[0m\u001b[0;34m)\u001b[0m\u001b[0;34m\u001b[0m\u001b[0;34m\u001b[0m\u001b[0m\n\u001b[0m",
      "\u001b[0;31mInternalError\u001b[0m: current transaction is aborted, commands ignored until end of transaction block\n"
     ]
    }
   ],
   "source": [
    "cur.execute(sql_q5_professor)"
   ]
  },
  {
   "cell_type": "code",
   "execution_count": 69,
   "metadata": {},
   "outputs": [],
   "source": [
    "conn.commit()"
   ]
  },
  {
   "cell_type": "code",
   "execution_count": 70,
   "metadata": {},
   "outputs": [
    {
     "data": {
      "text/html": [
       "<div>\n",
       "<style scoped>\n",
       "    .dataframe tbody tr th:only-of-type {\n",
       "        vertical-align: middle;\n",
       "    }\n",
       "\n",
       "    .dataframe tbody tr th {\n",
       "        vertical-align: top;\n",
       "    }\n",
       "\n",
       "    .dataframe thead th {\n",
       "        text-align: right;\n",
       "    }\n",
       "</style>\n",
       "<table border=\"1\" class=\"dataframe\">\n",
       "  <thead>\n",
       "    <tr style=\"text-align: right;\">\n",
       "      <th></th>\n",
       "      <th>p_email</th>\n",
       "      <th>p_name</th>\n",
       "      <th>office</th>\n",
       "    </tr>\n",
       "  </thead>\n",
       "  <tbody>\n",
       "    <tr>\n",
       "      <th>0</th>\n",
       "      <td>danzelox@jmu.edu                              ...</td>\n",
       "      <td>Orlandrew Danzell</td>\n",
       "      <td>N/a</td>\n",
       "    </tr>\n",
       "    <tr>\n",
       "      <th>1</th>\n",
       "      <td>marrinsp@jmu.edu                              ...</td>\n",
       "      <td>Stephen Marrin</td>\n",
       "      <td>ENGEO 2104</td>\n",
       "    </tr>\n",
       "    <tr>\n",
       "      <th>2</th>\n",
       "      <td>raabrw@jmu.edu                                ...</td>\n",
       "      <td>Ron Raab</td>\n",
       "      <td>ISAT 156</td>\n",
       "    </tr>\n",
       "    <tr>\n",
       "      <th>3</th>\n",
       "      <td>waltontr@jmu.edu                              ...</td>\n",
       "      <td>Timothy Walton</td>\n",
       "      <td>ISAT 326</td>\n",
       "    </tr>\n",
       "    <tr>\n",
       "      <th>4</th>\n",
       "      <td>new_p@jmu.edu                                 ...</td>\n",
       "      <td>new_p</td>\n",
       "      <td>new_office</td>\n",
       "    </tr>\n",
       "  </tbody>\n",
       "</table>\n",
       "</div>"
      ],
      "text/plain": [
       "                                             p_email             p_name  \\\n",
       "0  danzelox@jmu.edu                              ...  Orlandrew Danzell   \n",
       "1  marrinsp@jmu.edu                              ...     Stephen Marrin   \n",
       "2  raabrw@jmu.edu                                ...           Ron Raab   \n",
       "3  waltontr@jmu.edu                              ...     Timothy Walton   \n",
       "4  new_p@jmu.edu                                 ...              new_p   \n",
       "\n",
       "            office  \n",
       "0  N/a              \n",
       "1  ENGEO 2104       \n",
       "2  ISAT 156         \n",
       "3  ISAT 326         \n",
       "4  new_office       "
      ]
     },
     "execution_count": 70,
     "metadata": {},
     "output_type": "execute_result"
    }
   ],
   "source": [
    "df=pandas.read_sql_query('select * from professor',conn)\n",
    "df[:]"
   ]
  },
  {
   "cell_type": "code",
   "execution_count": 71,
   "metadata": {},
   "outputs": [],
   "source": [
    "sql_q5_course = \"\"\"\n",
    "                    insert into course(c_number,c_name,room,p_email)\n",
    "                    values('{}','{}','{}','{}')\n",
    "                    \"\"\".format('ia_new','new_c_name','online','new_p@jmu.edu')"
   ]
  },
  {
   "cell_type": "code",
   "execution_count": 73,
   "metadata": {},
   "outputs": [
    {
     "ename": "InternalError",
     "evalue": "current transaction is aborted, commands ignored until end of transaction block\n",
     "output_type": "error",
     "traceback": [
      "\u001b[0;31m---------------------------------------------------------------------------\u001b[0m",
      "\u001b[0;31mInternalError\u001b[0m                             Traceback (most recent call last)",
      "\u001b[0;32m<ipython-input-73-902ff13ea826>\u001b[0m in \u001b[0;36m<module>\u001b[0;34m\u001b[0m\n\u001b[0;32m----> 1\u001b[0;31m \u001b[0mcur\u001b[0m\u001b[0;34m.\u001b[0m\u001b[0mexecute\u001b[0m\u001b[0;34m(\u001b[0m\u001b[0msql_q5_course\u001b[0m\u001b[0;34m)\u001b[0m\u001b[0;34m\u001b[0m\u001b[0;34m\u001b[0m\u001b[0m\n\u001b[0m",
      "\u001b[0;31mInternalError\u001b[0m: current transaction is aborted, commands ignored until end of transaction block\n"
     ]
    }
   ],
   "source": [
    "cur.execute(sql_q5_course)"
   ]
  },
  {
   "cell_type": "code",
   "execution_count": 74,
   "metadata": {},
   "outputs": [],
   "source": [
    "conn.commit()"
   ]
  },
  {
   "cell_type": "code",
   "execution_count": 75,
   "metadata": {},
   "outputs": [
    {
     "data": {
      "text/html": [
       "<div>\n",
       "<style scoped>\n",
       "    .dataframe tbody tr th:only-of-type {\n",
       "        vertical-align: middle;\n",
       "    }\n",
       "\n",
       "    .dataframe tbody tr th {\n",
       "        vertical-align: top;\n",
       "    }\n",
       "\n",
       "    .dataframe thead th {\n",
       "        text-align: right;\n",
       "    }\n",
       "</style>\n",
       "<table border=\"1\" class=\"dataframe\">\n",
       "  <thead>\n",
       "    <tr style=\"text-align: right;\">\n",
       "      <th></th>\n",
       "      <th>c_number</th>\n",
       "      <th>c_name</th>\n",
       "      <th>room</th>\n",
       "      <th>p_email</th>\n",
       "    </tr>\n",
       "  </thead>\n",
       "  <tbody>\n",
       "    <tr>\n",
       "      <th>0</th>\n",
       "      <td>IA 200</td>\n",
       "      <td>Introduction to National Security Intelligence...</td>\n",
       "      <td>Fest1022</td>\n",
       "      <td>danzelox@jmu.edu                              ...</td>\n",
       "    </tr>\n",
       "    <tr>\n",
       "      <th>1</th>\n",
       "      <td>IA 261</td>\n",
       "      <td>Hypotheses Testing                            ...</td>\n",
       "      <td>ENGEO2201</td>\n",
       "      <td>waltontr@jmu.edu                              ...</td>\n",
       "    </tr>\n",
       "    <tr>\n",
       "      <th>2</th>\n",
       "      <td>IA 480</td>\n",
       "      <td>Homeland Security                             ...</td>\n",
       "      <td>ENGEO1301</td>\n",
       "      <td>raabrw@jmu.edu                                ...</td>\n",
       "    </tr>\n",
       "    <tr>\n",
       "      <th>3</th>\n",
       "      <td>IA 240</td>\n",
       "      <td>Technology Applications in a Networked World  ...</td>\n",
       "      <td>Online</td>\n",
       "      <td>new_p@jmu.edu                                 ...</td>\n",
       "    </tr>\n",
       "    <tr>\n",
       "      <th>4</th>\n",
       "      <td>IA 400</td>\n",
       "      <td>Hacking for Diplomacy                         ...</td>\n",
       "      <td>Online</td>\n",
       "      <td>new_p@jmu.edu                                 ...</td>\n",
       "    </tr>\n",
       "    <tr>\n",
       "      <th>5</th>\n",
       "      <td>ia_new</td>\n",
       "      <td>new_c_name                                    ...</td>\n",
       "      <td>online</td>\n",
       "      <td>new_p@jmu.edu                                 ...</td>\n",
       "    </tr>\n",
       "  </tbody>\n",
       "</table>\n",
       "</div>"
      ],
      "text/plain": [
       "               c_number                                             c_name  \\\n",
       "0  IA 200                Introduction to National Security Intelligence...   \n",
       "1  IA 261                Hypotheses Testing                            ...   \n",
       "2  IA 480                Homeland Security                             ...   \n",
       "3  IA 240                Technology Applications in a Networked World  ...   \n",
       "4  IA 400                Hacking for Diplomacy                         ...   \n",
       "5  ia_new                new_c_name                                    ...   \n",
       "\n",
       "        room                                            p_email  \n",
       "0   Fest1022  danzelox@jmu.edu                              ...  \n",
       "1  ENGEO2201  waltontr@jmu.edu                              ...  \n",
       "2  ENGEO1301  raabrw@jmu.edu                                ...  \n",
       "3     Online  new_p@jmu.edu                                 ...  \n",
       "4     Online  new_p@jmu.edu                                 ...  \n",
       "5     online  new_p@jmu.edu                                 ...  "
      ]
     },
     "execution_count": 75,
     "metadata": {},
     "output_type": "execute_result"
    }
   ],
   "source": [
    "df=pandas.read_sql_query('select * from course',conn)\n",
    "df[:]"
   ]
  },
  {
   "cell_type": "markdown",
   "metadata": {},
   "source": [
    "# Question 6"
   ]
  },
  {
   "cell_type": "code",
   "execution_count": 76,
   "metadata": {},
   "outputs": [],
   "source": [
    "sql_q6_course = \"\"\"\n",
    "                update course\n",
    "                set p_email = '{}'\n",
    "                where p_email = '{}'\n",
    "                \"\"\".format('new_p@jmu.edu','weixx@jmu.edu')"
   ]
  },
  {
   "cell_type": "code",
   "execution_count": 77,
   "metadata": {},
   "outputs": [],
   "source": [
    "cur.execute(sql_q6_course)"
   ]
  },
  {
   "cell_type": "code",
   "execution_count": 78,
   "metadata": {},
   "outputs": [],
   "source": [
    "conn.commit()"
   ]
  },
  {
   "cell_type": "code",
   "execution_count": 79,
   "metadata": {},
   "outputs": [
    {
     "data": {
      "text/html": [
       "<div>\n",
       "<style scoped>\n",
       "    .dataframe tbody tr th:only-of-type {\n",
       "        vertical-align: middle;\n",
       "    }\n",
       "\n",
       "    .dataframe tbody tr th {\n",
       "        vertical-align: top;\n",
       "    }\n",
       "\n",
       "    .dataframe thead th {\n",
       "        text-align: right;\n",
       "    }\n",
       "</style>\n",
       "<table border=\"1\" class=\"dataframe\">\n",
       "  <thead>\n",
       "    <tr style=\"text-align: right;\">\n",
       "      <th></th>\n",
       "      <th>c_number</th>\n",
       "      <th>c_name</th>\n",
       "      <th>room</th>\n",
       "      <th>p_email</th>\n",
       "    </tr>\n",
       "  </thead>\n",
       "  <tbody>\n",
       "    <tr>\n",
       "      <th>0</th>\n",
       "      <td>IA 200</td>\n",
       "      <td>Introduction to National Security Intelligence...</td>\n",
       "      <td>Fest1022</td>\n",
       "      <td>danzelox@jmu.edu                              ...</td>\n",
       "    </tr>\n",
       "    <tr>\n",
       "      <th>1</th>\n",
       "      <td>IA 261</td>\n",
       "      <td>Hypotheses Testing                            ...</td>\n",
       "      <td>ENGEO2201</td>\n",
       "      <td>waltontr@jmu.edu                              ...</td>\n",
       "    </tr>\n",
       "    <tr>\n",
       "      <th>2</th>\n",
       "      <td>IA 480</td>\n",
       "      <td>Homeland Security                             ...</td>\n",
       "      <td>ENGEO1301</td>\n",
       "      <td>raabrw@jmu.edu                                ...</td>\n",
       "    </tr>\n",
       "    <tr>\n",
       "      <th>3</th>\n",
       "      <td>IA 240</td>\n",
       "      <td>Technology Applications in a Networked World  ...</td>\n",
       "      <td>Online</td>\n",
       "      <td>new_p@jmu.edu                                 ...</td>\n",
       "    </tr>\n",
       "    <tr>\n",
       "      <th>4</th>\n",
       "      <td>IA 400</td>\n",
       "      <td>Hacking for Diplomacy                         ...</td>\n",
       "      <td>Online</td>\n",
       "      <td>new_p@jmu.edu                                 ...</td>\n",
       "    </tr>\n",
       "    <tr>\n",
       "      <th>5</th>\n",
       "      <td>ia_new</td>\n",
       "      <td>new_c_name                                    ...</td>\n",
       "      <td>online</td>\n",
       "      <td>new_p@jmu.edu                                 ...</td>\n",
       "    </tr>\n",
       "  </tbody>\n",
       "</table>\n",
       "</div>"
      ],
      "text/plain": [
       "               c_number                                             c_name  \\\n",
       "0  IA 200                Introduction to National Security Intelligence...   \n",
       "1  IA 261                Hypotheses Testing                            ...   \n",
       "2  IA 480                Homeland Security                             ...   \n",
       "3  IA 240                Technology Applications in a Networked World  ...   \n",
       "4  IA 400                Hacking for Diplomacy                         ...   \n",
       "5  ia_new                new_c_name                                    ...   \n",
       "\n",
       "        room                                            p_email  \n",
       "0   Fest1022  danzelox@jmu.edu                              ...  \n",
       "1  ENGEO2201  waltontr@jmu.edu                              ...  \n",
       "2  ENGEO1301  raabrw@jmu.edu                                ...  \n",
       "3     Online  new_p@jmu.edu                                 ...  \n",
       "4     Online  new_p@jmu.edu                                 ...  \n",
       "5     online  new_p@jmu.edu                                 ...  "
      ]
     },
     "execution_count": 79,
     "metadata": {},
     "output_type": "execute_result"
    }
   ],
   "source": [
    "df=pandas.read_sql_query('select * from course',conn)\n",
    "df[:]"
   ]
  },
  {
   "cell_type": "code",
   "execution_count": 80,
   "metadata": {},
   "outputs": [],
   "source": [
    "sql_q6_professor = \"\"\"\n",
    "                delete from professor\n",
    "                where p_email = '{}'\n",
    "                \"\"\".format('weixx@jmu.edu')"
   ]
  },
  {
   "cell_type": "code",
   "execution_count": 81,
   "metadata": {},
   "outputs": [],
   "source": [
    "cur.execute(sql_q6_professor)"
   ]
  },
  {
   "cell_type": "code",
   "execution_count": 82,
   "metadata": {},
   "outputs": [],
   "source": [
    "conn.commit()"
   ]
  },
  {
   "cell_type": "code",
   "execution_count": 84,
   "metadata": {},
   "outputs": [
    {
     "data": {
      "text/html": [
       "<div>\n",
       "<style scoped>\n",
       "    .dataframe tbody tr th:only-of-type {\n",
       "        vertical-align: middle;\n",
       "    }\n",
       "\n",
       "    .dataframe tbody tr th {\n",
       "        vertical-align: top;\n",
       "    }\n",
       "\n",
       "    .dataframe thead th {\n",
       "        text-align: right;\n",
       "    }\n",
       "</style>\n",
       "<table border=\"1\" class=\"dataframe\">\n",
       "  <thead>\n",
       "    <tr style=\"text-align: right;\">\n",
       "      <th></th>\n",
       "      <th>p_email</th>\n",
       "      <th>p_name</th>\n",
       "      <th>office</th>\n",
       "    </tr>\n",
       "  </thead>\n",
       "  <tbody>\n",
       "    <tr>\n",
       "      <th>0</th>\n",
       "      <td>danzelox@jmu.edu                              ...</td>\n",
       "      <td>Orlandrew Danzell</td>\n",
       "      <td>N/a</td>\n",
       "    </tr>\n",
       "    <tr>\n",
       "      <th>1</th>\n",
       "      <td>marrinsp@jmu.edu                              ...</td>\n",
       "      <td>Stephen Marrin</td>\n",
       "      <td>ENGEO 2104</td>\n",
       "    </tr>\n",
       "    <tr>\n",
       "      <th>2</th>\n",
       "      <td>raabrw@jmu.edu                                ...</td>\n",
       "      <td>Ron Raab</td>\n",
       "      <td>ISAT 156</td>\n",
       "    </tr>\n",
       "    <tr>\n",
       "      <th>3</th>\n",
       "      <td>waltontr@jmu.edu                              ...</td>\n",
       "      <td>Timothy Walton</td>\n",
       "      <td>ISAT 326</td>\n",
       "    </tr>\n",
       "    <tr>\n",
       "      <th>4</th>\n",
       "      <td>new_p@jmu.edu                                 ...</td>\n",
       "      <td>new_p</td>\n",
       "      <td>new_office</td>\n",
       "    </tr>\n",
       "  </tbody>\n",
       "</table>\n",
       "</div>"
      ],
      "text/plain": [
       "                                             p_email             p_name  \\\n",
       "0  danzelox@jmu.edu                              ...  Orlandrew Danzell   \n",
       "1  marrinsp@jmu.edu                              ...     Stephen Marrin   \n",
       "2  raabrw@jmu.edu                                ...           Ron Raab   \n",
       "3  waltontr@jmu.edu                              ...     Timothy Walton   \n",
       "4  new_p@jmu.edu                                 ...              new_p   \n",
       "\n",
       "            office  \n",
       "0  N/a              \n",
       "1  ENGEO 2104       \n",
       "2  ISAT 156         \n",
       "3  ISAT 326         \n",
       "4  new_office       "
      ]
     },
     "execution_count": 84,
     "metadata": {},
     "output_type": "execute_result"
    }
   ],
   "source": [
    "df=pandas.read_sql_query('select * from professor',conn)\n",
    "df[:]"
   ]
  },
  {
   "cell_type": "markdown",
   "metadata": {},
   "source": [
    "# Close Connection"
   ]
  },
  {
   "cell_type": "code",
   "execution_count": 85,
   "metadata": {},
   "outputs": [],
   "source": [
    "cur.close()\n",
    "conn.close()"
   ]
  }
 ],
 "metadata": {
  "kernelspec": {
   "display_name": "conda_python3",
   "language": "python",
   "name": "conda_python3"
  },
  "language_info": {
   "codemirror_mode": {
    "name": "ipython",
    "version": 3
   },
   "file_extension": ".py",
   "mimetype": "text/x-python",
   "name": "python",
   "nbconvert_exporter": "python",
   "pygments_lexer": "ipython3",
   "version": "3.6.10"
  }
 },
 "nbformat": 4,
 "nbformat_minor": 4
}
